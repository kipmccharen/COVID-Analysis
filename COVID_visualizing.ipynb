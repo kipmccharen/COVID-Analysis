{
 "cells": [
  {
   "cell_type": "code",
   "execution_count": 1,
   "metadata": {},
   "outputs": [
    {
     "name": "stderr",
     "output_type": "stream",
     "text": [
      "\n",
      "Attaching package: 'dplyr'\n",
      "\n",
      "The following objects are masked from 'package:stats':\n",
      "\n",
      "    filter, lag\n",
      "\n",
      "The following objects are masked from 'package:base':\n",
      "\n",
      "    intersect, setdiff, setequal, union\n",
      "\n",
      "\n",
      "Attaching package: 'lubridate'\n",
      "\n",
      "The following object is masked from 'package:base':\n",
      "\n",
      "    date\n",
      "\n"
     ]
    }
   ],
   "source": [
    "library(utils)\n",
    "library(dplyr)\n",
    "library(tidyr)\n",
    "library(lubridate)"
   ]
  },
  {
   "cell_type": "code",
   "execution_count": 3,
   "metadata": {},
   "outputs": [],
   "source": [
    "data <- read.csv(\"https://opendata.ecdc.europa.eu/covid19/casedistribution/csv\", na.strings = \"\", fileEncoding = \"UTF-8-BOM\")\n",
    "data[[1]] <- as.Date(data[[1]], \"%d/%m/%Y\")\n",
    "\n",
    "data <- select(data, dateRep, countriesAndTerritories, cases, popData2019)\n",
    "data <- data %>% drop_na(dateRep)\n",
    "data <- data %>% filter(dateRep >= \"2020-01-22\" & dateRep <= \"2020-07-01\")"
   ]
  },
  {
   "cell_type": "code",
   "execution_count": 6,
   "metadata": {},
   "outputs": [
    {
     "data": {
      "text/html": [
       "<table>\n",
       "<thead><tr><th scope=col>dateRep</th><th scope=col>countriesAndTerritories</th><th scope=col>cases</th><th scope=col>popData2019</th><th scope=col>cum_cases</th></tr></thead>\n",
       "<tbody>\n",
       "\t<tr><td>2020-01-22</td><td>China     </td><td>140       </td><td>1433783692</td><td> 140      </td></tr>\n",
       "\t<tr><td>2020-01-23</td><td>China     </td><td> 97       </td><td>1433783692</td><td> 237      </td></tr>\n",
       "\t<tr><td>2020-01-24</td><td>China     </td><td>259       </td><td>1433783692</td><td> 496      </td></tr>\n",
       "\t<tr><td>2020-01-25</td><td>China     </td><td>441       </td><td>1433783692</td><td> 937      </td></tr>\n",
       "\t<tr><td>2020-01-26</td><td>China     </td><td>665       </td><td>1433783692</td><td>1602      </td></tr>\n",
       "\t<tr><td>2020-01-27</td><td>China     </td><td>787       </td><td>1433783692</td><td>2389      </td></tr>\n",
       "</tbody>\n",
       "</table>\n"
      ],
      "text/latex": [
       "\\begin{tabular}{r|lllll}\n",
       " dateRep & countriesAndTerritories & cases & popData2019 & cum\\_cases\\\\\n",
       "\\hline\n",
       "\t 2020-01-22 & China      & 140        & 1433783692 &  140      \\\\\n",
       "\t 2020-01-23 & China      &  97        & 1433783692 &  237      \\\\\n",
       "\t 2020-01-24 & China      & 259        & 1433783692 &  496      \\\\\n",
       "\t 2020-01-25 & China      & 441        & 1433783692 &  937      \\\\\n",
       "\t 2020-01-26 & China      & 665        & 1433783692 & 1602      \\\\\n",
       "\t 2020-01-27 & China      & 787        & 1433783692 & 2389      \\\\\n",
       "\\end{tabular}\n"
      ],
      "text/markdown": [
       "\n",
       "| dateRep | countriesAndTerritories | cases | popData2019 | cum_cases |\n",
       "|---|---|---|---|---|\n",
       "| 2020-01-22 | China      | 140        | 1433783692 |  140       |\n",
       "| 2020-01-23 | China      |  97        | 1433783692 |  237       |\n",
       "| 2020-01-24 | China      | 259        | 1433783692 |  496       |\n",
       "| 2020-01-25 | China      | 441        | 1433783692 |  937       |\n",
       "| 2020-01-26 | China      | 665        | 1433783692 | 1602       |\n",
       "| 2020-01-27 | China      | 787        | 1433783692 | 2389       |\n",
       "\n"
      ],
      "text/plain": [
       "  dateRep    countriesAndTerritories cases popData2019 cum_cases\n",
       "1 2020-01-22 China                   140   1433783692   140     \n",
       "2 2020-01-23 China                    97   1433783692   237     \n",
       "3 2020-01-24 China                   259   1433783692   496     \n",
       "4 2020-01-25 China                   441   1433783692   937     \n",
       "5 2020-01-26 China                   665   1433783692  1602     \n",
       "6 2020-01-27 China                   787   1433783692  2389     "
      ]
     },
     "metadata": {},
     "output_type": "display_data"
    }
   ],
   "source": [
    "data <- data %>% arrange(countriesAndTerritories,dateRep)\n",
    "data <- data %>% group_by(countriesAndTerritories) %>% mutate(cum_cases = cumsum(cases))\n",
    "head(data %>% filter(countriesAndTerritories == \"China\"))"
   ]
  },
  {
   "cell_type": "code",
   "execution_count": null,
   "metadata": {},
   "outputs": [],
   "source": [
    "\n",
    "# ux <- unique(data['countriesAndTerritories'])\n",
    "# ux # paste0( ux[2], collapse=\",\")\n",
    "# string = paste(unique(data$countriesAndTerritories), collapse = \", \")\n",
    "# string"
   ]
  },
  {
   "cell_type": "code",
   "execution_count": 7,
   "metadata": {},
   "outputs": [],
   "source": [
    "# maxbycountry = ddply(data, \"countriesAndTerritories\", summarize, max = max(dateRep))\n",
    "# maxbycountry\n",
    "datag <- data %>% group_by(dateRep)\n",
    "datag <- datag %>% summarise(cases = sum(cases), cum_cases = sum(cum_cases))\n",
    "datag$popData2019 <- 7669215953\n",
    "datag$countriesAndTerritories <- 'World'\n",
    "datag <- datag[names(data)]\n",
    "# head(datag)\n",
    "# head(data)"
   ]
  },
  {
   "cell_type": "code",
   "execution_count": 8,
   "metadata": {},
   "outputs": [
    {
     "name": "stderr",
     "output_type": "stream",
     "text": [
      "Warning message in bind_rows_(x, .id):\n",
      "\"binding character and factor vector, coercing into character vector\""
     ]
    },
    {
     "data": {
      "text/html": [
       "<table>\n",
       "<thead><tr><th scope=col>dateRep</th><th scope=col>countriesAndTerritories</th><th scope=col>cases</th><th scope=col>popData2019</th><th scope=col>cum_cases</th></tr></thead>\n",
       "<tbody>\n",
       "\t<tr><td>2020-01-22</td><td>World     </td><td>142       </td><td>7669215953</td><td> 142      </td></tr>\n",
       "\t<tr><td>2020-01-23</td><td>World     </td><td> 97       </td><td>7669215953</td><td> 239      </td></tr>\n",
       "\t<tr><td>2020-01-24</td><td>World     </td><td>266       </td><td>7669215953</td><td> 505      </td></tr>\n",
       "\t<tr><td>2020-01-25</td><td>World     </td><td>453       </td><td>7669215953</td><td> 958      </td></tr>\n",
       "\t<tr><td>2020-01-26</td><td>World     </td><td>673       </td><td>7669215953</td><td>1631      </td></tr>\n",
       "\t<tr><td>2020-01-27</td><td>World     </td><td>797       </td><td>7669215953</td><td>2428      </td></tr>\n",
       "</tbody>\n",
       "</table>\n"
      ],
      "text/latex": [
       "\\begin{tabular}{r|lllll}\n",
       " dateRep & countriesAndTerritories & cases & popData2019 & cum\\_cases\\\\\n",
       "\\hline\n",
       "\t 2020-01-22 & World      & 142        & 7669215953 &  142      \\\\\n",
       "\t 2020-01-23 & World      &  97        & 7669215953 &  239      \\\\\n",
       "\t 2020-01-24 & World      & 266        & 7669215953 &  505      \\\\\n",
       "\t 2020-01-25 & World      & 453        & 7669215953 &  958      \\\\\n",
       "\t 2020-01-26 & World      & 673        & 7669215953 & 1631      \\\\\n",
       "\t 2020-01-27 & World      & 797        & 7669215953 & 2428      \\\\\n",
       "\\end{tabular}\n"
      ],
      "text/markdown": [
       "\n",
       "| dateRep | countriesAndTerritories | cases | popData2019 | cum_cases |\n",
       "|---|---|---|---|---|\n",
       "| 2020-01-22 | World      | 142        | 7669215953 |  142       |\n",
       "| 2020-01-23 | World      |  97        | 7669215953 |  239       |\n",
       "| 2020-01-24 | World      | 266        | 7669215953 |  505       |\n",
       "| 2020-01-25 | World      | 453        | 7669215953 |  958       |\n",
       "| 2020-01-26 | World      | 673        | 7669215953 | 1631       |\n",
       "| 2020-01-27 | World      | 797        | 7669215953 | 2428       |\n",
       "\n"
      ],
      "text/plain": [
       "  dateRep    countriesAndTerritories cases popData2019 cum_cases\n",
       "1 2020-01-22 World                   142   7669215953   142     \n",
       "2 2020-01-23 World                    97   7669215953   239     \n",
       "3 2020-01-24 World                   266   7669215953   505     \n",
       "4 2020-01-25 World                   453   7669215953   958     \n",
       "5 2020-01-26 World                   673   7669215953  1631     \n",
       "6 2020-01-27 World                   797   7669215953  2428     "
      ]
     },
     "metadata": {},
     "output_type": "display_data"
    }
   ],
   "source": [
    "dtogether <- bind_rows(datag, data)\n",
    "head(dtogether)"
   ]
  },
  {
   "cell_type": "code",
   "execution_count": 9,
   "metadata": {},
   "outputs": [
    {
     "data": {
      "text/html": [
       "<table>\n",
       "<thead><tr><th scope=col>dateRep</th><th scope=col>countriesAndTerritories</th><th scope=col>cases</th><th scope=col>popData2019</th><th scope=col>cum_cases</th><th scope=col>casesPerMillion</th></tr></thead>\n",
       "<tbody>\n",
       "\t<tr><td>2020-01-22</td><td>World     </td><td>142       </td><td>7669215953</td><td> 142      </td><td>0.01851558</td></tr>\n",
       "\t<tr><td>2020-01-23</td><td>World     </td><td> 97       </td><td>7669215953</td><td> 239      </td><td>0.03116355</td></tr>\n",
       "\t<tr><td>2020-01-24</td><td>World     </td><td>266       </td><td>7669215953</td><td> 505      </td><td>0.06584767</td></tr>\n",
       "\t<tr><td>2020-01-25</td><td>World     </td><td>453       </td><td>7669215953</td><td> 958      </td><td>0.12491499</td></tr>\n",
       "\t<tr><td>2020-01-26</td><td>World     </td><td>673       </td><td>7669215953</td><td>1631      </td><td>0.21266841</td></tr>\n",
       "\t<tr><td>2020-01-27</td><td>World     </td><td>797       </td><td>7669215953</td><td>2428      </td><td>0.31659038</td></tr>\n",
       "</tbody>\n",
       "</table>\n"
      ],
      "text/latex": [
       "\\begin{tabular}{r|llllll}\n",
       " dateRep & countriesAndTerritories & cases & popData2019 & cum\\_cases & casesPerMillion\\\\\n",
       "\\hline\n",
       "\t 2020-01-22 & World      & 142        & 7669215953 &  142       & 0.01851558\\\\\n",
       "\t 2020-01-23 & World      &  97        & 7669215953 &  239       & 0.03116355\\\\\n",
       "\t 2020-01-24 & World      & 266        & 7669215953 &  505       & 0.06584767\\\\\n",
       "\t 2020-01-25 & World      & 453        & 7669215953 &  958       & 0.12491499\\\\\n",
       "\t 2020-01-26 & World      & 673        & 7669215953 & 1631       & 0.21266841\\\\\n",
       "\t 2020-01-27 & World      & 797        & 7669215953 & 2428       & 0.31659038\\\\\n",
       "\\end{tabular}\n"
      ],
      "text/markdown": [
       "\n",
       "| dateRep | countriesAndTerritories | cases | popData2019 | cum_cases | casesPerMillion |\n",
       "|---|---|---|---|---|---|\n",
       "| 2020-01-22 | World      | 142        | 7669215953 |  142       | 0.01851558 |\n",
       "| 2020-01-23 | World      |  97        | 7669215953 |  239       | 0.03116355 |\n",
       "| 2020-01-24 | World      | 266        | 7669215953 |  505       | 0.06584767 |\n",
       "| 2020-01-25 | World      | 453        | 7669215953 |  958       | 0.12491499 |\n",
       "| 2020-01-26 | World      | 673        | 7669215953 | 1631       | 0.21266841 |\n",
       "| 2020-01-27 | World      | 797        | 7669215953 | 2428       | 0.31659038 |\n",
       "\n"
      ],
      "text/plain": [
       "  dateRep    countriesAndTerritories cases popData2019 cum_cases\n",
       "1 2020-01-22 World                   142   7669215953   142     \n",
       "2 2020-01-23 World                    97   7669215953   239     \n",
       "3 2020-01-24 World                   266   7669215953   505     \n",
       "4 2020-01-25 World                   453   7669215953   958     \n",
       "5 2020-01-26 World                   673   7669215953  1631     \n",
       "6 2020-01-27 World                   797   7669215953  2428     \n",
       "  casesPerMillion\n",
       "1 0.01851558     \n",
       "2 0.03116355     \n",
       "3 0.06584767     \n",
       "4 0.12491499     \n",
       "5 0.21266841     \n",
       "6 0.31659038     "
      ]
     },
     "metadata": {},
     "output_type": "display_data"
    }
   ],
   "source": [
    "dtogether$casesPerMillion <- with(dtogether, cum_cases / (popData2019 / 1000000))\n",
    "countrylist <- c('United_States_of_America', 'United_Kingdom', 'South_Korea', 'China', 'World')\n",
    "dtogether <- dtogether %>% filter(countriesAndTerritories %in% countrylist)\n",
    "head(dtogether)"
   ]
  },
  {
   "cell_type": "code",
   "execution_count": 10,
   "metadata": {},
   "outputs": [
    {
     "name": "stderr",
     "output_type": "stream",
     "text": [
      "Registered S3 methods overwritten by 'ggplot2':\n",
      "  method         from \n",
      "  [.quosures     rlang\n",
      "  c.quosures     rlang\n",
      "  print.quosures rlang\n",
      "Warning message:\n",
      "\"Transformation introduced infinite values in continuous y-axis\""
     ]
    },
    {
     "data": {
      "image/png": "[encoded data removed]",
      "text/plain": [
       "plot without title"
      ]
     },
     "metadata": {},
     "output_type": "display_data"
    }
   ],
   "source": [
    "library(ggplot2)\n",
    "library(scales)\n",
    "\n",
    "theme_set(theme_minimal())\n",
    "ggplot(data=dtogether, aes(x=dateRep, y=casesPerMillion)) +\n",
    "     scale_y_log10(breaks = trans_breaks(\"log10\", function(x) 10^x),\n",
    "          labels = trans_format(\"log10\", math_format(10^.x))) +\n",
    "    geom_line(aes(color = countriesAndTerritories, linetype = countriesAndTerritories))\n",
    "# +    opts(legend.background = theme_rect(col = 0))\n",
    "# ggplot(df, aes(x = date, y = value)) + \n",
    "#   geom_line(aes(color = variable, linetype = variable)) + \n",
    "#   scale_color_manual(values = c(\"darkred\", \"steelblue\"))"
   ]
  }
 ],
 "metadata": {
  "kernelspec": {
   "display_name": "R",
   "language": "R",
   "name": "ir"
  },
  "language_info": {
   "codemirror_mode": "r",
   "file_extension": ".r",
   "mimetype": "text/x-r-source",
   "name": "R",
   "pygments_lexer": "r",
   "version": "3.6.1"
  }
 },
 "nbformat": 4,
 "nbformat_minor": 4
}
